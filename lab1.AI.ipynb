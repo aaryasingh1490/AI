{
 "cells": [
  {
   "cell_type": "code",
   "execution_count": 1,
   "id": "f4481637",
   "metadata": {},
   "outputs": [
    {
     "name": "stdout",
     "output_type": "stream",
     "text": [
      "Initial State: {'lights': 'off', 'thermostat': 22, 'door_lock': 'unlocked', 'time_of_day': 'morning', 'presence': False}\n"
     ]
    },
    {
     "name": "stderr",
     "output_type": "stream",
     "text": [
      "<ipython-input-1-5b5f35ddb983>:38: UserWarning: Setting the 'color' property will override the edgecolor or facecolor properties.\n",
      "  rect = Rectangle((0.1, i + 0.1), 0.8, 0.8, color=color, edgecolor=\"black\")\n"
     ]
    },
    {
     "data": {
      "image/png": "[encoded data removed]",
      "text/plain": [
       "<Figure size 576x432 with 1 Axes>"
      ]
     },
     "metadata": {
      "needs_background": "light"
     },
     "output_type": "display_data"
    },
    {
     "name": "stdout",
     "output_type": "stream",
     "text": [
      "Updated State: {'lights': 'off', 'thermostat': 22, 'door_lock': 'locked', 'time_of_day': 'morning', 'presence': False}\n",
      "Updated State: {'lights': 'on', 'thermostat': 22, 'door_lock': 'locked', 'time_of_day': 'evening', 'presence': True}\n"
     ]
    },
    {
     "data": {
      "image/png": "[encoded data removed]",
      "text/plain": [
       "<Figure size 576x432 with 1 Axes>"
      ]
     },
     "metadata": {
      "needs_background": "light"
     },
     "output_type": "display_data"
    }
   ],
   "source": [
    "import matplotlib.pyplot as plt\n",
    "from matplotlib.patches import Rectangle\n",
    " \n",
    "# Initial smart home state\n",
    "smart_home = {\n",
    "    \"lights\": \"off\",\n",
    "    \"thermostat\": 22,\n",
    "    \"door_lock\": \"unlocked\",\n",
    "    \"time_of_day\": \"morning\",\n",
    "    \"presence\": False\n",
    "}\n",
    " \n",
    "# Visualization function\n",
    "def visualize_state_grid(home_state, title=\"Smart Home State\"):\n",
    "    # Set up the plot\n",
    "    fig, ax = plt.subplots(figsize=(8, 6))\n",
    "   \n",
    "    # Define grid size based on the number of devices in home_state\n",
    "    ax.set_xlim(0, 3)  # Set X-axis limit (3 columns: device name, state, status)\n",
    "    ax.set_ylim(0, len(home_state))  # Set Y-axis limit (number of devices)\n",
    "    ax.set_title(title, fontsize=16, fontweight=\"bold\")\n",
    "    ax.axis(\"off\")  # Turn off the axis\n",
    "   \n",
    "    # Define colors for each state based on device type\n",
    "    color_map = {\n",
    "        \"on\": \"green\", \"off\": \"yellow\",\n",
    "        \"locked\": \"green\", \"unlocked\": \"yellow\",\n",
    "        True: \"green\", False: \"yellow\",\n",
    "        \"morning\": \"aqua\", \"evening\": \"aqua\"\n",
    "    }\n",
    "   \n",
    "    # Place each device state as a colored rectangle in the grid\n",
    "    for i, (device, state) in enumerate(home_state.items()):\n",
    "        # Define the color based on the state\n",
    "        color = color_map.get(state, \"gray\")  # Default to gray if state is not in color_map\n",
    "       \n",
    "        # Create a rectangle for the device state\n",
    "        rect = Rectangle((0.1, i + 0.1), 0.8, 0.8, color=color, edgecolor=\"black\")\n",
    "        ax.add_patch(rect)\n",
    "       \n",
    "        # Add device name and state text\n",
    "        ax.text(0.5, i + 0.5, device.capitalize(), va=\"center\", ha=\"center\", fontweight=\"bold\", color=\"black\")\n",
    "        ax.text(2, i + 0.5, str(state), va=\"center\", ha=\"center\", fontweight=\"bold\", color=\"black\")\n",
    "   \n",
    "    # Display the plot\n",
    "    plt.show()\n",
    " \n",
    "# Define the function to apply rules\n",
    "def apply_rules(home):\n",
    "    # Rule 1: Turn on lights in the evening if someone is home\n",
    "    if home[\"time_of_day\"] == \"evening\" and home[\"presence\"]:\n",
    "        home[\"lights\"] = \"on\"\n",
    "   \n",
    "    # Rule 2: Adjust thermostat if it's cold and someone is home\n",
    "    if home[\"thermostat\"] < 20 and home[\"presence\"]:\n",
    "        home[\"thermostat\"] = 22\n",
    "   \n",
    "    # Rule 3: Lock doors if no one is home\n",
    "    if not home[\"presence\"]:\n",
    "        home[\"door_lock\"] = \"locked\"\n",
    "   \n",
    "    # Rule 4: Set morning thermostat if someone is home\n",
    "    if home[\"time_of_day\"] == \"morning\" and home[\"presence\"]:\n",
    "        home[\"thermostat\"] = 20\n",
    "   \n",
    "    return home\n",
    " \n",
    "# Display the initial state of the smart home\n",
    "print(\"Initial State:\", smart_home)\n",
    "visualize_state_grid(smart_home, title=\"Initial Smart Home State\")\n",
    " \n",
    "# Apply the rules and get updated home state\n",
    "updated_home = apply_rules(smart_home)\n",
    " \n",
    "# Print the updated state\n",
    "print(\"Updated State:\", updated_home)\n",
    " \n",
    "# Now, update the home conditions to test the rules\n",
    "smart_home[\"time_of_day\"] = \"evening\"\n",
    "smart_home[\"presence\"] = True  # Someone is home\n",
    "smart_home[\"thermostat\"] = 18  # Set thermostat to test adjustment rule\n",
    " \n",
    "# Apply the rules again and get updated home state\n",
    "updated_home = apply_rules(smart_home)\n",
    " \n",
    "# Print the updated state\n",
    "print(\"Updated State:\", updated_home)\n",
    " \n",
    "# Visualize the updated state after applying rules\n",
    "visualize_state_grid(updated_home, title=\"Updated Smart Home State After Applying Rules\")"
   ]
  },
  {
   "cell_type": "code",
   "execution_count": null,
   "id": "90e380e3",
   "metadata": {},
   "outputs": [],
   "source": []
  }
 ],
 "metadata": {
  "kernelspec": {
   "display_name": "Python 3",
   "language": "python",
   "name": "python3"
  },
  "language_info": {
   "codemirror_mode": {
    "name": "ipython",
    "version": 3
   },
   "file_extension": ".py",
   "mimetype": "text/x-python",
   "name": "python",
   "nbconvert_exporter": "python",
   "pygments_lexer": "ipython3",
   "version": "3.8.8"
  }
 },
 "nbformat": 4,
 "nbformat_minor": 5
}
