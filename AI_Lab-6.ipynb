{
 "cells": [
  {
   "cell_type": "code",
   "execution_count": 1,
   "id": "628043c4",
   "metadata": {},
   "outputs": [],
   "source": [
    "from collections import defaultdict\n",
    "\n",
    "knowledge_base= [\n",
    "    (\"if_person_commits_crime\", \"person_is_punishable\"),\n",
    "    (\"if_person_is_minor\", \"person_not_punishable\"),\n",
    "    (\"if_person_is_minor\", \"person_requires_gardian_care\"),\n",
    "    (\"person_steals\", \"if_person_commits_crime\"),\n",
    "    (\"john_is_15\", \"if_person_is_minor\"),\n",
    "    (\"john_stole\", \"person_steals\")\n",
    "]"
   ]
  },
  {
   "cell_type": "code",
   "execution_count": 2,
   "id": "da68aa7a",
   "metadata": {},
   "outputs": [],
   "source": [
    "facts = {\n",
    "    \"john_is_15\": True,\n",
    "    \"john_stole\": True\n",
    "}"
   ]
  },
  {
   "cell_type": "code",
   "execution_count": 3,
   "id": "4a06fff9",
   "metadata": {},
   "outputs": [
    {
     "name": "stdout",
     "output_type": "stream",
     "text": [
      "--- Forward Chaining ---\n",
      "Inferred: if_person_is_minor from john_is_15\n",
      "Inferred: person_steals from john_stole\n",
      "Inferred: person_not_punishable from if_person_is_minor\n",
      "Inferred: person_requires_gardian_care from if_person_is_minor\n",
      "Inferred: if_person_commits_crime from person_steals\n",
      "Inferred: person_is_punishable from if_person_commits_crime\n",
      "Updated Facts: {'john_is_15': True, 'john_stole': True, 'if_person_is_minor': True, 'person_steals': True, 'person_not_punishable': True, 'person_requires_gardian_care': True, 'if_person_commits_crime': True, 'person_is_punishable': True}\n"
     ]
    }
   ],
   "source": [
    "def forward_chaining(kb, facts):\n",
    "    new_inferences = True\n",
    "    while new_inferences:\n",
    "        new_inferences = False\n",
    "        for antecedent, consequent in kb:\n",
    "            if antecedent in facts and facts[antecedent] and consequent not in facts:\n",
    "                facts[consequent] = True\n",
    "                new_inferences = True\n",
    "                print(f\"Inferred: {consequent} from {antecedent}\")\n",
    "    return facts\n",
    "\n",
    "print(\"--- Forward Chaining ---\")\n",
    "updated_facts = forward_chaining(knowledge_base, facts.copy())\n",
    "print(\"Updated Facts:\", updated_facts)"
   ]
  },
  {
   "cell_type": "code",
   "execution_count": 4,
   "id": "11379762",
   "metadata": {},
   "outputs": [
    {
     "name": "stdout",
     "output_type": "stream",
     "text": [
      "\n",
      " --- Backward Chainng ---\n",
      "Inferred: person_steals because john_stole is true\n",
      "Inferred: if_person_commits_crime because person_steals is true\n",
      "Inferred: person_is_punishable because if_person_commits_crime is true\n",
      "Goal 'person_is_punishable' is true.\n"
     ]
    }
   ],
   "source": [
    "def backward_chaining(goal, kb, facts, seen=None):\n",
    "    if seen is None:\n",
    "        seen = set()\n",
    "        \n",
    "    if goal in facts:\n",
    "        return facts[goal]\n",
    "    \n",
    "    for antecedent, consequent in kb:\n",
    "        if consequent == goal and antecedent not in seen:\n",
    "            seen.add(antecedent)\n",
    "            if backward_chaining(antecedent, kb, facts, seen):\n",
    "                facts[goal] = True\n",
    "                print(f\"Inferred: {goal} because {antecedent} is true\")\n",
    "                return True\n",
    "    return False\n",
    "\n",
    "print(\"\\n --- Backward Chainng ---\")\n",
    "goal = \"person_is_punishable\"\n",
    "result = backward_chaining(goal, knowledge_base, facts.copy())\n",
    "if result:\n",
    "    print(f\"Goal '{goal}' is true.\")\n",
    "else:\n",
    "    print(f\"Goal '{goal}' is False.\")"
   ]
  },
  {
   "cell_type": "code",
   "execution_count": null,
   "id": "c620c662",
   "metadata": {},
   "outputs": [],
   "source": []
  },
  {
   "cell_type": "code",
   "execution_count": null,
   "id": "9f806435",
   "metadata": {},
   "outputs": [],
   "source": []
  }
 ],
 "metadata": {
  "kernelspec": {
   "display_name": "Python 3",
   "language": "python",
   "name": "python3"
  },
  "language_info": {
   "codemirror_mode": {
    "name": "ipython",
    "version": 3
   },
   "file_extension": ".py",
   "mimetype": "text/x-python",
   "name": "python",
   "nbconvert_exporter": "python",
   "pygments_lexer": "ipython3",
   "version": "3.8.8"
  }
 },
 "nbformat": 4,
 "nbformat_minor": 5
}
